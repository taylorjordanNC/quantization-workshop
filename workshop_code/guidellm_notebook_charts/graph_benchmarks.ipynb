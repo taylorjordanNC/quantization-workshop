{
 "cells": [
  {
   "cell_type": "code",
   "execution_count": null,
   "id": "c5cd5176-86f1-4f26-99f9-38825533f1e0",
   "metadata": {},
   "outputs": [],
   "source": [
    "# We'll get the latest benchmark file from the guidellm-benchmark s3 bucket\n",
    "%pip -q install boto3\n",
    "from minio_downloader import download_latest_benchmark_file\n",
    "\n",
    "MINIO_ENDPOINT = \"http://minio-service.minio.svc.cluster.local:9000\"\n",
    "MINIO_ACCESS_KEY = \"minio\"\n",
    "MINIO_SECRET_KEY = \"minio123\"\n",
    "MINIO_BUCKET_NAME = \"guidellm-benchmark\"\n",
    "DOWNLOAD_DIRECTORY = \".\"\n",
    "\n",
    "latest_file = download_latest_benchmark_file(\n",
    "    endpoint_url=MINIO_ENDPOINT,\n",
    "    access_key=MINIO_ACCESS_KEY,\n",
    "    secret_key=MINIO_SECRET_KEY,\n",
    "    bucket_name=MINIO_BUCKET_NAME,\n",
    "    local_path=DOWNLOAD_DIRECTORY\n",
    ")\n",
    "print(latest_file)"
   ]
  },
  {
   "cell_type": "code",
   "execution_count": null,
   "id": "807ed73d-0f88-4a07-80db-78a6e5df9c80",
   "metadata": {},
   "outputs": [],
   "source": [
    "# extract the Metadata benchmark and the median TTFTs\n",
    "%pip -q install pandas\n",
    "from parse_benchmark_stats import extract_ttft_from_file\n",
    "data = extract_ttft_from_file(latest_file)\n",
    "print(data)"
   ]
  },
  {
   "cell_type": "code",
   "execution_count": null,
   "id": "3db0e202-eb9a-4620-bd63-73b99dbbfe70",
   "metadata": {},
   "outputs": [],
   "source": [
    "# graph of median TTFT vs poisson rate\n",
    "%pip -q install seaborn\n",
    "from seaborn_graph import create_ttft_plot\n",
    "create_ttft_plot(data)"
   ]
  }
 ],
 "metadata": {
  "kernelspec": {
   "display_name": "Python 3.11",
   "language": "python",
   "name": "python3"
  },
  "language_info": {
   "codemirror_mode": {
    "name": "ipython",
    "version": 3
   },
   "file_extension": ".py",
   "mimetype": "text/x-python",
   "name": "python",
   "nbconvert_exporter": "python",
   "pygments_lexer": "ipython3",
   "version": "3.11.11"
  }
 },
 "nbformat": 4,
 "nbformat_minor": 5
}
